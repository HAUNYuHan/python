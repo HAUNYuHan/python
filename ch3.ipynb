{
  "nbformat": 4,
  "nbformat_minor": 0,
  "metadata": {
    "colab": {
      "name": "ch3.ipynb",
      "provenance": [],
      "authorship_tag": "ABX9TyNKJ08t0EUTXP8F1hNFBKW6",
      "include_colab_link": true
    },
    "kernelspec": {
      "name": "python3",
      "display_name": "Python 3"
    }
  },
  "cells": [
    {
      "cell_type": "markdown",
      "metadata": {
        "id": "view-in-github",
        "colab_type": "text"
      },
      "source": [
        "<a href=\"https://colab.research.google.com/github/HAUNYuHan/python/blob/main/ch3.ipynb\" target=\"_parent\"><img src=\"https://colab.research.google.com/assets/colab-badge.svg\" alt=\"Open In Colab\"/></a>"
      ]
    },
    {
      "cell_type": "code",
      "metadata": {
        "id": "GIZKucZHM149"
      },
      "source": [
        "score = []\r\n",
        "total = inscore = 0\r\n",
        "while(inscore != -1):\r\n",
        "    inscore = int(input(\"請輸入學生的成績：\"))\r\n",
        "    score.append(inscore)\r\n",
        "print(\"共有 %d 位學生\" % (len(score) - 1))\r\n",
        "for i in range(0, len(score) - 1):\r\n",
        "    total += score[i]\r\n",
        "average = total / (len(score) - 1)\r\n",
        "print(\"本班總成績：%d 分，平均成績：%5.2f 分\" % (total, average))"
      ],
      "execution_count": null,
      "outputs": []
    },
    {
      "cell_type": "code",
      "metadata": {
        "id": "qkpV4JX8OJSe"
      },
      "source": [
        "n = int(input(\"請輸入大樓的樓層數：\"))\r\n",
        "print(\"本大樓具有的樓層為：\")\r\n",
        "if(n > 3):\r\n",
        "    n += 1\r\n",
        "for i in range(1, n+1):\r\n",
        "    if(i==4):\r\n",
        "        continue\r\n",
        "    print(i, end=\" \")\r\n",
        "print()"
      ],
      "execution_count": null,
      "outputs": []
    },
    {
      "cell_type": "code",
      "metadata": {
        "id": "YjIdxj_JORy8"
      },
      "source": [
        "score = [85, 79, 93]\r\n",
        "print(\"國文成績：%d 分\" % score[0])\r\n",
        "print(\"數學成績：%d 分\" % score[1])\r\n",
        "print(\"英文成績：%d 分\" % score[2])"
      ],
      "execution_count": null,
      "outputs": []
    },
    {
      "cell_type": "code",
      "metadata": {
        "id": "WXnw_1MyOWst"
      },
      "source": [
        "for i in range(1,10):\r\n",
        "    for j in range(1,10):\r\n",
        "        product = i * j\r\n",
        "        print(\"%d*%d=%-2d   \" % (i, j, product), end=\"\")\r\n",
        "    print()\r\n"
      ],
      "execution_count": null,
      "outputs": []
    },
    {
      "cell_type": "code",
      "metadata": {
        "id": "Q6xO2z3GOaK9"
      },
      "source": [
        "sum = 0\r\n",
        "n = int(input(\"請輸入正整數：\"))\r\n",
        "for i in range(1, n+1):\r\n",
        "    sum += i\r\n",
        "print(\"1 到 %d 的整數和為 %d\" % (n, sum))"
      ],
      "execution_count": null,
      "outputs": []
    },
    {
      "cell_type": "code",
      "metadata": {
        "id": "3nSg8BjcOhat"
      },
      "source": [
        "n = int(input(\"請輸入大於 1 的整數：\"))\r\n",
        "if(n == 2):\r\n",
        "    print(\"2 是質數！\")\r\n",
        "else:\r\n",
        "    for i in range(2, n):\r\n",
        "        if(n % i == 0):\r\n",
        "            print(\"%d 不是質數！\" % n)\r\n",
        "            break\r\n",
        "    else:\r\n",
        "        print(\"%d 是質數！\" % n)"
      ],
      "execution_count": null,
      "outputs": []
    },
    {
      "cell_type": "code",
      "metadata": {
        "id": "p8uptt8MOiGG"
      },
      "source": [
        "total = person = score = 0\r\n",
        "while(score != -1):\r\n",
        "    person += 1\r\n",
        "    total += score\r\n",
        "    score = int(input(\"請輸入第 %d 位學生的成績：\" % person))\r\n",
        "average = total / (person - 1)\r\n",
        "print(\"本班總成績：%d 分，平均成績：%5.2f 分\" % (total, average))"
      ],
      "execution_count": null,
      "outputs": []
    }
  ]
}