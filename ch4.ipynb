{
  "nbformat": 4,
  "nbformat_minor": 0,
  "metadata": {
    "colab": {
      "name": "ch4.ipynb",
      "provenance": [],
      "authorship_tag": "ABX9TyNfG7CNpNOCI6wYsBEexzNz",
      "include_colab_link": true
    },
    "kernelspec": {
      "name": "python3",
      "display_name": "Python 3"
    }
  },
  "cells": [
    {
      "cell_type": "markdown",
      "metadata": {
        "id": "view-in-github",
        "colab_type": "text"
      },
      "source": [
        "<a href=\"https://colab.research.google.com/github/HAUNYuHan/python/blob/main/ch4.ipynb\" target=\"_parent\"><img src=\"https://colab.research.google.com/assets/colab-badge.svg\" alt=\"Open In Colab\"/></a>"
      ]
    },
    {
      "cell_type": "code",
      "metadata": {
        "colab": {
          "base_uri": "https://localhost:8080/"
        },
        "id": "2a1fl9BPQf_Q",
        "outputId": "52b5e075-787b-4453-c6e5-af38e215adf6"
      },
      "source": [
        "dict1 = {\"A\":\"內向穩重\", \"B\":\"外向樂觀\", \"O\":\"堅強自信\", \"AB\":\"聰明自然\"}\r\n",
        "name = input(\"輸入要查詢的血型:\")\r\n",
        "blood = dict1.get(name)\r\n",
        "if blood == None:  \r\n",
        "    print(\"沒有「\" + name + \"」血型！\")\r\n",
        "else:  \r\n",
        "    print(name + \" 血型的個性為：\" + str(dict1[name]))"
      ],
      "execution_count": null,
      "outputs": [
        {
          "output_type": "stream",
          "text": [
            "輸入要查詢的血型:A\n",
            "A 血型的個性為：內向穩重\n"
          ],
          "name": "stdout"
        }
      ]
    },
    {
      "cell_type": "code",
      "metadata": {
        "colab": {
          "base_uri": "https://localhost:8080/"
        },
        "id": "4Gc4WtprQoD2",
        "outputId": "ed474a3a-4ffc-4300-f3eb-b860d7378fc9"
      },
      "source": [
        "dict1 = {\"林小明\":85, \"曾山水\":93, \"鄭美麗\":67}\r\n",
        "name = input(\"輸入學生姓名：\")\r\n",
        "if name in dict1:  \r\n",
        "    print(name + \"的成績為 \" + str(dict1[name]))\r\n",
        "else:  \r\n",
        "    score = input(\"輸入學生分數：\")\r\n",
        "    dict1[name] = score\r\n",
        "    print(\"字典內容：\" + str(dict1))"
      ],
      "execution_count": null,
      "outputs": [
        {
          "output_type": "stream",
          "text": [
            "輸入學生姓名：林小明\n",
            "林小明的成績為 85\n"
          ],
          "name": "stdout"
        }
      ]
    },
    {
      "cell_type": "code",
      "metadata": {
        "colab": {
          "base_uri": "https://localhost:8080/"
        },
        "id": "lq5zHfKCQwM1",
        "outputId": "ba1c47fb-bde9-43be-9445-3c11926abf0e"
      },
      "source": [
        "dict1={\"金牌\":26, \"銀牌\":34, \"銅牌\":30}\r\n",
        "item1 = list(dict1.items())\r\n",
        "for name, num in item1:\r\n",
        "    print(\"得到的 %s 數目為 %d 面\" % (name, num))\r\n"
      ],
      "execution_count": null,
      "outputs": [
        {
          "output_type": "stream",
          "text": [
            "得到的 金牌 數目為 26 面\n",
            "得到的 銀牌 數目為 34 面\n",
            "得到的 銅牌 數目為 30 面\n"
          ],
          "name": "stdout"
        }
      ]
    },
    {
      "cell_type": "code",
      "metadata": {
        "colab": {
          "base_uri": "https://localhost:8080/"
        },
        "id": "StXZac3iQ6zd",
        "outputId": "594afde3-873a-4736-e9b2-7817c540f2c4"
      },
      "source": [
        "dict1={\"金牌\":26, \"銀牌\":34, \"銅牌\":30}\r\n",
        "listkey = list(dict1.keys())\r\n",
        "listvalue = list(dict1.values())\r\n",
        "for i in range(len(listkey)):\r\n",
        "    print(\"得到的 %s 數目為 %d 面\" % (listkey[i], listvalue[i]))\r\n"
      ],
      "execution_count": null,
      "outputs": [
        {
          "output_type": "stream",
          "text": [
            "得到的 金牌 數目為 26 面\n",
            "得到的 銀牌 數目為 34 面\n",
            "得到的 銅牌 數目為 30 面\n"
          ],
          "name": "stdout"
        }
      ]
    }
  ]
}