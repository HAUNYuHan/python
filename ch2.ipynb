{
  "nbformat": 4,
  "nbformat_minor": 0,
  "metadata": {
    "colab": {
      "name": "format.ipynb",
      "provenance": [],
      "authorship_tag": "ABX9TyMd3Uyt36ea4LQiqD27jVN4",
      "include_colab_link": true
    },
    "kernelspec": {
      "name": "python3",
      "display_name": "Python 3"
    }
  },
  "cells": [
    {
      "cell_type": "markdown",
      "metadata": {
        "id": "view-in-github",
        "colab_type": "text"
      },
      "source": [
        "<a href=\"https://colab.research.google.com/github/HAUNYuHan/python/blob/main/format.ipynb\" target=\"_parent\"><img src=\"https://colab.research.google.com/assets/colab-badge.svg\" alt=\"Open In Colab\"/></a>"
      ]
    },
    {
      "cell_type": "code",
      "metadata": {
        "colab": {
          "base_uri": "https://localhost:8080/"
        },
        "id": "VgWG_KXh3Wj0",
        "outputId": "0fe223dc-03ce-495b-a2bd-50aab6fa1fb1"
      },
      "source": [
        "money = int(input(\"請輸入購物金額：\"))\r\n",
        "if(money >= 10000):\r\n",
        "    if(money >= 100000):\r\n",
        "        print(money * 0.8, end=\" 元\\n\")  #八折\r\n",
        "    elif(money >= 50000):\r\n",
        "        print(money * 0.85, end=\" 元\\n\")  #八五折\r\n",
        "    elif(money >= 30000):\r\n",
        "        print(money * 0.9, end=\" 元\\n\")  #九折\r\n",
        "    else:\r\n",
        "        print(money * 0.95, end=\" 元\\n\")  #九五折\r\n",
        "else:\r\n",
        "    print(money, end=\" 元\\n\")  #未打折"
      ],
      "execution_count": null,
      "outputs": [
        {
          "output_type": "stream",
          "text": [
            "請輸入購物金額：25000\n",
            "23750.0 元\n"
          ],
          "name": "stdout"
        }
      ]
    },
    {
      "cell_type": "code",
      "metadata": {
        "colab": {
          "base_uri": "https://localhost:8080/"
        },
        "id": "7xWvrxv73jgZ",
        "outputId": "cc4930ab-8493-4db4-aa0f-038c5b4d1640"
      },
      "source": [
        "print(\"姓名   座號  國文  數學  英文\")\r\n",
        "print(\"姓名   座號  國文  數學  英文\")\r\n",
        "print(\"%3s  %2d   %3d   %3d  %3d\" % (\"林大明\", 1, 100, 87, 79))\r\n",
        "print(\"%3s  %2d   %3d   %3d  %3d\" % (\"陳阿中\", 2, 74, 88, 100))\r\n",
        "print(\"%3s  %2d   %3d   %3d  %3d\" % (\"張小英\", 11, 82, 65, 8))\r\n",
        "\r\n"
      ],
      "execution_count": null,
      "outputs": [
        {
          "output_type": "stream",
          "text": [
            "姓名   座號  國文  數學  英文\n",
            "林大明   1   100    87   79\n",
            "陳阿中   2    74    88  100\n",
            "張小英  11    82    65    8\n"
          ],
          "name": "stdout"
        }
      ]
    },
    {
      "cell_type": "markdown",
      "metadata": {
        "id": "RsWRaqgN4SNz"
      },
      "source": [
        "# %s\r\n",
        "字串\r\n",
        "# %d\r\n",
        "十進位整數\r\n",
        "# %f\r\n",
        "浮點數\r\n"
      ]
    },
    {
      "cell_type": "code",
      "metadata": {
        "colab": {
          "base_uri": "https://localhost:8080/"
        },
        "id": "ZquPoN2b5KcZ",
        "outputId": "16f89bc1-e8d7-4f9e-c7f0-5271a98df797"
      },
      "source": [
        "score = int(input(\"請輸入成績：\"))\r\n",
        "if(score) >= 90:\r\n",
        "    print(\"優等\")\r\n",
        "elif(score) >= 80:\r\n",
        "    print(\"甲等\")\r\n",
        "elif(score) >= 70:\r\n",
        "    print(\"乙等\")\r\n",
        "elif(score) >= 60:\r\n",
        "    print(\"丙等\")\r\n",
        "else:\r\n",
        "    print(\"丁等\")\r\n"
      ],
      "execution_count": null,
      "outputs": [
        {
          "output_type": "stream",
          "text": [
            "請輸入成績：99\n",
            "優等\n"
          ],
          "name": "stdout"
        }
      ]
    },
    {
      "cell_type": "code",
      "metadata": {
        "colab": {
          "base_uri": "https://localhost:8080/"
        },
        "id": "PLMu1Cmg5WKt",
        "outputId": "b6fdf65f-1c1e-45d3-c2d3-8eb2e62647f2"
      },
      "source": [
        "pw = input(\"請輸入密碼：\")\r\n",
        "if(pw==\"1234\"):\r\n",
        "    print(\"歡迎光臨！\")"
      ],
      "execution_count": null,
      "outputs": [
        {
          "output_type": "stream",
          "text": [
            "請輸入密碼：1234\n",
            "歡迎光臨！\n"
          ],
          "name": "stdout"
        }
      ]
    },
    {
      "cell_type": "code",
      "metadata": {
        "colab": {
          "base_uri": "https://localhost:8080/"
        },
        "id": "-oC9sk7C5YUc",
        "outputId": "88c9beac-33d8-4b2d-b135-e8e8bf212ee1"
      },
      "source": [
        "pw = input(\"請輸入密碼：\")\r\n",
        "if(pw==\"1234\"):\r\n",
        "    print(\"歡迎光臨！\")\r\n",
        "else:\r\n",
        "    print(\"密碼錯誤！\")\r\n"
      ],
      "execution_count": null,
      "outputs": [
        {
          "output_type": "stream",
          "text": [
            "請輸入密碼：2356\n",
            "密碼錯誤！\n"
          ],
          "name": "stdout"
        }
      ]
    },
    {
      "cell_type": "code",
      "metadata": {
        "colab": {
          "base_uri": "https://localhost:8080/"
        },
        "id": "ysDYrG6Q5iAc",
        "outputId": "78bab488-4b9b-4c38-bf4a-fe4f33bdbe9d"
      },
      "source": [
        "nat = input(\"請輸入國文成績：\")\r\n",
        "math = input(\"請輸入數學成績：\")\r\n",
        "eng = input(\"請輸入英文成績：\")\r\n",
        "sum = int(nat) + int(math) + int(eng)  #輸入值需轉換為整數\r\n",
        "average = sum / 3\r\n",
        "print(\"成績總分：%d，平均成績：%5.2f\" % (sum, average))"
      ],
      "execution_count": null,
      "outputs": [
        {
          "output_type": "stream",
          "text": [
            "請輸入國文成績：55\n",
            "請輸入數學成績：66\n",
            "請輸入英文成績：77\n",
            "成績總分：198，平均成績：66.00\n"
          ],
          "name": "stdout"
        }
      ]
    }
  ]
}
