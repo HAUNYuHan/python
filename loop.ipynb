{
  "nbformat": 4,
  "nbformat_minor": 0,
  "metadata": {
    "colab": {
      "name": "loop.ipynb",
      "provenance": [],
      "authorship_tag": "ABX9TyNca6UnuxFe6YFDiZhTyCbz",
      "include_colab_link": true
    },
    "kernelspec": {
      "name": "python3",
      "display_name": "Python 3"
    }
  },
  "cells": [
    {
      "cell_type": "markdown",
      "metadata": {
        "id": "view-in-github",
        "colab_type": "text"
      },
      "source": [
        "<a href=\"https://colab.research.google.com/github/HAUNYuHan/python/blob/main/loop.ipynb\" target=\"_parent\"><img src=\"https://colab.research.google.com/assets/colab-badge.svg\" alt=\"Open In Colab\"/></a>"
      ]
    },
    {
      "cell_type": "code",
      "metadata": {
        "colab": {
          "base_uri": "https://localhost:8080/"
        },
        "id": "77c91SaMvVh6",
        "outputId": "400e32a4-a216-4d25-a854-5c040a77fe07"
      },
      "source": [
        "sum = 0\r\n",
        "\r\n",
        "def show(n):\r\n",
        "    print(\"第 \" + str(n) + \" 次執行迴圈\") #str 字串\r\n",
        "    \r\n",
        "for i in range(1,11): #從1到10\r\n",
        "    show(i)\r\n",
        "    sum += i # i=1到10\r\n",
        "print(\"1+2+...+10 = \" + str(sum)) #1+2+...+10 = 字串表示數列相加結果\r\n"
      ],
      "execution_count": null,
      "outputs": [
        {
          "output_type": "stream",
          "text": [
            "第 1 次執行迴圈\n",
            "第 2 次執行迴圈\n",
            "第 3 次執行迴圈\n",
            "第 4 次執行迴圈\n",
            "第 5 次執行迴圈\n",
            "第 6 次執行迴圈\n",
            "第 7 次執行迴圈\n",
            "第 8 次執行迴圈\n",
            "第 9 次執行迴圈\n",
            "第 10 次執行迴圈\n",
            "1+2+...+10 = 55\n"
          ],
          "name": "stdout"
        }
      ]
    },
    {
      "cell_type": "markdown",
      "metadata": {
        "id": "6S5fU-Qs65i8"
      },
      "source": [
        ""
      ]
    },
    {
      "cell_type": "markdown",
      "metadata": {
        "id": "Rb4O1fhRxp9j"
      },
      "source": [
        "# sum\r\n",
        "sum(iterable[, start]) \r\n",
        "sum(可替換 ex:集合、列表[, 指定相加參數，若未設置則默認為0])\r\n",
        "#for in\r\n",
        "ex:\r\n",
        "classroom = ['詠晴', '品妍', '宥蓁', '柏睿', '宥廷', '柏宇']\r\n",
        " \r\n",
        "for each_student in classroom:\r\n",
        "    print(each_student)"
      ]
    },
    {
      "cell_type": "code",
      "metadata": {
        "id": "N2zFJgZb2uQ1",
        "colab": {
          "base_uri": "https://localhost:8080/"
        },
        "outputId": "981680b0-261c-4472-aa04-a4eb50d6cabf"
      },
      "source": [
        "a = 12\r\n",
        "b = 34\r\n",
        "sum = a + b\r\n",
        "print(\"總和 = \" + str(sum)) #字串表示數列相加結果"
      ],
      "execution_count": null,
      "outputs": [
        {
          "output_type": "stream",
          "text": [
            "總和 = 46\n"
          ],
          "name": "stdout"
        }
      ]
    }
  ]
}